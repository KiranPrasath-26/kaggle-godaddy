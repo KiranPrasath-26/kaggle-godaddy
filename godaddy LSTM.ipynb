{
 "cells": [
  {
   "cell_type": "code",
   "execution_count": 2,
   "id": "df9a88b3",
   "metadata": {
    "_cell_guid": "b1076dfc-b9ad-4769-8c92-a6c4dae69d19",
    "_uuid": "8f2839f25d086af736a60e9eeb907d3b93b6e0e5",
    "execution": {
     "iopub.execute_input": "2023-02-25T10:32:25.650005Z",
     "iopub.status.busy": "2023-02-25T10:32:25.648828Z",
     "iopub.status.idle": "2023-02-25T10:32:30.838751Z",
     "shell.execute_reply": "2023-02-25T10:32:30.837790Z"
    },
    "papermill": {
     "duration": 5.204677,
     "end_time": "2023-02-25T10:32:30.841237",
     "exception": false,
     "start_time": "2023-02-25T10:32:25.636560",
     "status": "completed"
    },
    "tags": []
   },
   "outputs": [],
   "source": [
    "import numpy as np # linear algebra\n",
    "import pandas as pd # data processing, CSV file I/O (e.g. pd.read_csv)\n",
    "import tensorflow as tf\n",
    "from sklearn.preprocessing import MinMaxScaler\n",
    "import joblib\n",
    "import gc\n",
    "import random"
   ]
  },
  {
   "cell_type": "code",
   "execution_count": 3,
   "id": "0cba1305",
   "metadata": {
    "execution": {
     "iopub.execute_input": "2023-02-25T10:32:30.863399Z",
     "iopub.status.busy": "2023-02-25T10:32:30.862203Z",
     "iopub.status.idle": "2023-02-25T10:32:30.867902Z",
     "shell.execute_reply": "2023-02-25T10:32:30.866937Z"
    },
    "papermill": {
     "duration": 0.018577,
     "end_time": "2023-02-25T10:32:30.869806",
     "exception": false,
     "start_time": "2023-02-25T10:32:30.851229",
     "status": "completed"
    },
    "tags": []
   },
   "outputs": [],
   "source": [
    "SEED=42\n",
    "random.seed(SEED)\n",
    "np.random.seed(SEED)\n",
    "tf.random.set_seed(SEED)"
   ]
  },
  {
   "cell_type": "code",
   "execution_count": 4,
   "id": "a3feb8f0",
   "metadata": {
    "execution": {
     "iopub.execute_input": "2023-02-25T10:32:30.891289Z",
     "iopub.status.busy": "2023-02-25T10:32:30.890653Z",
     "iopub.status.idle": "2023-02-25T10:32:30.895242Z",
     "shell.execute_reply": "2023-02-25T10:32:30.894384Z"
    },
    "papermill": {
     "duration": 0.018157,
     "end_time": "2023-02-25T10:32:30.897192",
     "exception": false,
     "start_time": "2023-02-25T10:32:30.879035",
     "status": "completed"
    },
    "tags": []
   },
   "outputs": [],
   "source": [
    "VALIDATE = False"
   ]
  },
  {
   "cell_type": "code",
   "execution_count": 5,
   "id": "4d7bbbdb",
   "metadata": {
    "execution": {
     "iopub.execute_input": "2023-02-25T10:32:30.917732Z",
     "iopub.status.busy": "2023-02-25T10:32:30.916842Z",
     "iopub.status.idle": "2023-02-25T10:32:30.921097Z",
     "shell.execute_reply": "2023-02-25T10:32:30.920176Z"
    },
    "papermill": {
     "duration": 0.016204,
     "end_time": "2023-02-25T10:32:30.923006",
     "exception": false,
     "start_time": "2023-02-25T10:32:30.906802",
     "status": "completed"
    },
    "tags": []
   },
   "outputs": [],
   "source": [
    "best_model_params = {}"
   ]
  },
  {
   "cell_type": "code",
   "execution_count": 6,
   "id": "4f5b8594",
   "metadata": {
    "execution": {
     "iopub.execute_input": "2023-02-25T10:32:30.943797Z",
     "iopub.status.busy": "2023-02-25T10:32:30.942920Z",
     "iopub.status.idle": "2023-02-25T10:32:31.243703Z",
     "shell.execute_reply": "2023-02-25T10:32:31.242698Z"
    },
    "papermill": {
     "duration": 0.313623,
     "end_time": "2023-02-25T10:32:31.246148",
     "exception": false,
     "start_time": "2023-02-25T10:32:30.932525",
     "status": "completed"
    },
    "tags": []
   },
   "outputs": [],
   "source": [
    "df_train = pd.read_csv(\"/kaggle/input/godaddy-microbusiness-density-forecasting/train.csv\")"
   ]
  },
  {
   "cell_type": "code",
   "execution_count": 7,
   "id": "54c1c98a",
   "metadata": {
    "execution": {
     "iopub.execute_input": "2023-02-25T10:32:31.267760Z",
     "iopub.status.busy": "2023-02-25T10:32:31.266110Z",
     "iopub.status.idle": "2023-02-25T10:32:31.288395Z",
     "shell.execute_reply": "2023-02-25T10:32:31.287509Z"
    },
    "papermill": {
     "duration": 0.03458,
     "end_time": "2023-02-25T10:32:31.290324",
     "exception": false,
     "start_time": "2023-02-25T10:32:31.255744",
     "status": "completed"
    },
    "tags": []
   },
   "outputs": [],
   "source": [
    "df_train_revealed = pd.read_csv(\"/kaggle/input/godaddy-microbusiness-density-forecasting/revealed_test.csv\")"
   ]
  },
  {
   "cell_type": "code",
   "execution_count": 8,
   "id": "676cb7ad",
   "metadata": {
    "execution": {
     "iopub.execute_input": "2023-02-25T10:32:31.310082Z",
     "iopub.status.busy": "2023-02-25T10:32:31.309776Z",
     "iopub.status.idle": "2023-02-25T10:32:31.507552Z",
     "shell.execute_reply": "2023-02-25T10:32:31.506348Z"
    },
    "papermill": {
     "duration": 0.210464,
     "end_time": "2023-02-25T10:32:31.510160",
     "exception": false,
     "start_time": "2023-02-25T10:32:31.299696",
     "status": "completed"
    },
    "tags": []
   },
   "outputs": [],
   "source": [
    "df_train = pd.concat([df_train, df_train_revealed], axis=\"rows\").sort_values([\"cfips\", \"row_id\"]).reset_index(drop=True)"
   ]
  },
  {
   "cell_type": "code",
   "execution_count": 9,
   "id": "c8a66993",
   "metadata": {
    "execution": {
     "iopub.execute_input": "2023-02-25T10:32:31.531112Z",
     "iopub.status.busy": "2023-02-25T10:32:31.530776Z",
     "iopub.status.idle": "2023-02-25T10:32:31.536269Z",
     "shell.execute_reply": "2023-02-25T10:32:31.535262Z"
    },
    "papermill": {
     "duration": 0.018398,
     "end_time": "2023-02-25T10:32:31.538528",
     "exception": false,
     "start_time": "2023-02-25T10:32:31.520130",
     "status": "completed"
    },
    "tags": []
   },
   "outputs": [],
   "source": [
    "df_train[\"is_test\"] = 0"
   ]
  },
  {
   "cell_type": "code",
   "execution_count": 10,
   "id": "432d5bd6",
   "metadata": {
    "execution": {
     "iopub.execute_input": "2023-02-25T10:32:31.559523Z",
     "iopub.status.busy": "2023-02-25T10:32:31.558113Z",
     "iopub.status.idle": "2023-02-25T10:32:31.595997Z",
     "shell.execute_reply": "2023-02-25T10:32:31.595167Z"
    },
    "papermill": {
     "duration": 0.050185,
     "end_time": "2023-02-25T10:32:31.598247",
     "exception": false,
     "start_time": "2023-02-25T10:32:31.548062",
     "status": "completed"
    },
    "tags": []
   },
   "outputs": [],
   "source": [
    "df_test = pd.read_csv(\"/kaggle/input/godaddy-microbusiness-density-forecasting/test.csv\")"
   ]
  },
  {
   "cell_type": "code",
   "execution_count": 11,
   "id": "806cc197",
   "metadata": {
    "execution": {
     "iopub.execute_input": "2023-02-25T10:32:31.618220Z",
     "iopub.status.busy": "2023-02-25T10:32:31.617872Z",
     "iopub.status.idle": "2023-02-25T10:32:31.623140Z",
     "shell.execute_reply": "2023-02-25T10:32:31.622085Z"
    },
    "papermill": {
     "duration": 0.017382,
     "end_time": "2023-02-25T10:32:31.625162",
     "exception": false,
     "start_time": "2023-02-25T10:32:31.607780",
     "status": "completed"
    },
    "tags": []
   },
   "outputs": [],
   "source": [
    "df_test[\"is_test\"] = 1"
   ]
  },
  {
   "cell_type": "code",
   "execution_count": 12,
   "id": "414cbf1f",
   "metadata": {
    "execution": {
     "iopub.execute_input": "2023-02-25T10:32:31.646023Z",
     "iopub.status.busy": "2023-02-25T10:32:31.644641Z",
     "iopub.status.idle": "2023-02-25T10:32:31.650189Z",
     "shell.execute_reply": "2023-02-25T10:32:31.649346Z"
    },
    "papermill": {
     "duration": 0.017906,
     "end_time": "2023-02-25T10:32:31.652246",
     "exception": false,
     "start_time": "2023-02-25T10:32:31.634340",
     "status": "completed"
    },
    "tags": []
   },
   "outputs": [],
   "source": [
    "df_test[\"is_test\"] = df_test[\"is_test\"].astype(int)"
   ]
  },
  {
   "cell_type": "code",
   "execution_count": 13,
   "id": "e92e717d",
   "metadata": {
    "execution": {
     "iopub.execute_input": "2023-02-25T10:32:31.673102Z",
     "iopub.status.busy": "2023-02-25T10:32:31.672325Z",
     "iopub.status.idle": "2023-02-25T10:32:31.902498Z",
     "shell.execute_reply": "2023-02-25T10:32:31.901438Z"
    },
    "papermill": {
     "duration": 0.24314,
     "end_time": "2023-02-25T10:32:31.905131",
     "exception": false,
     "start_time": "2023-02-25T10:32:31.661991",
     "status": "completed"
    },
    "tags": []
   },
   "outputs": [],
   "source": [
    "all_data = pd.concat([df_train, df_test], axis=\"rows\").sort_values([\"cfips\", \"row_id\"]).reset_index(drop=True)"
   ]
  },
  {
   "cell_type": "code",
   "execution_count": 14,
   "id": "6aef2f24",
   "metadata": {
    "execution": {
     "iopub.execute_input": "2023-02-25T10:32:31.926462Z",
     "iopub.status.busy": "2023-02-25T10:32:31.926113Z",
     "iopub.status.idle": "2023-02-25T10:32:31.939132Z",
     "shell.execute_reply": "2023-02-25T10:32:31.938262Z"
    },
    "papermill": {
     "duration": 0.02606,
     "end_time": "2023-02-25T10:32:31.941284",
     "exception": false,
     "start_time": "2023-02-25T10:32:31.915224",
     "status": "completed"
    },
    "tags": []
   },
   "outputs": [],
   "source": [
    "all_data[\"dcount\"] = all_data.groupby(\"cfips\")[\"row_id\"].cumcount()"
   ]
  },
  {
   "cell_type": "code",
   "execution_count": 15,
   "id": "038cdd44",
   "metadata": {
    "execution": {
     "iopub.execute_input": "2023-02-25T10:32:31.961663Z",
     "iopub.status.busy": "2023-02-25T10:32:31.961335Z",
     "iopub.status.idle": "2023-02-25T10:32:31.979800Z",
     "shell.execute_reply": "2023-02-25T10:32:31.978992Z"
    },
    "papermill": {
     "duration": 0.031063,
     "end_time": "2023-02-25T10:32:31.981969",
     "exception": false,
     "start_time": "2023-02-25T10:32:31.950906",
     "status": "completed"
    },
    "tags": []
   },
   "outputs": [],
   "source": [
    "all_data[\"state\"] = all_data.groupby([\"cfips\"])[\"state\"].ffill()"
   ]
  },
  {
   "cell_type": "code",
   "execution_count": 16,
   "id": "20283148",
   "metadata": {
    "execution": {
     "iopub.execute_input": "2023-02-25T10:32:32.002564Z",
     "iopub.status.busy": "2023-02-25T10:32:32.002264Z",
     "iopub.status.idle": "2023-02-25T10:32:32.018831Z",
     "shell.execute_reply": "2023-02-25T10:32:32.018000Z"
    },
    "papermill": {
     "duration": 0.029079,
     "end_time": "2023-02-25T10:32:32.020870",
     "exception": false,
     "start_time": "2023-02-25T10:32:31.991791",
     "status": "completed"
    },
    "tags": []
   },
   "outputs": [],
   "source": [
    "all_data[\"county\"] = all_data.groupby(\"cfips\")[\"county\"].ffill()"
   ]
  },
  {
   "cell_type": "code",
   "execution_count": 17,
   "id": "240eee2c",
   "metadata": {
    "execution": {
     "iopub.execute_input": "2023-02-25T10:32:32.042273Z",
     "iopub.status.busy": "2023-02-25T10:32:32.040883Z",
     "iopub.status.idle": "2023-02-25T10:32:32.065426Z",
     "shell.execute_reply": "2023-02-25T10:32:32.064597Z"
    },
    "papermill": {
     "duration": 0.037425,
     "end_time": "2023-02-25T10:32:32.067777",
     "exception": false,
     "start_time": "2023-02-25T10:32:32.030352",
     "status": "completed"
    },
    "tags": []
   },
   "outputs": [],
   "source": [
    "lag=1\n",
    "all_data[f\"mbd_lag_{lag}\"] = all_data.groupby(\"cfips\")[\"microbusiness_density\"].shift(lag).bfill()\n",
    "all_data[\"diff\"] = (all_data[\"microbusiness_density\"] / all_data[f\"mbd_lag_{lag}\"]).fillna(1).clip(0, None) - 1\n",
    "all_data.loc[(all_data[f\"mbd_lag_{lag}\"] == 0), 'diff'] = 0\n",
    "all_data.loc[(all_data[\"microbusiness_density\"] > 0) & (all_data[f\"mbd_lag_{lag}\"] == 0), 'diff'] = 1\n",
    "all_data['diff'] = all_data['diff'].abs()"
   ]
  },
  {
   "cell_type": "code",
   "execution_count": 18,
   "id": "acdc714b",
   "metadata": {
    "execution": {
     "iopub.execute_input": "2023-02-25T10:32:32.088532Z",
     "iopub.status.busy": "2023-02-25T10:32:32.087030Z",
     "iopub.status.idle": "2023-02-25T10:32:32.091627Z",
     "shell.execute_reply": "2023-02-25T10:32:32.090807Z"
    },
    "papermill": {
     "duration": 0.016484,
     "end_time": "2023-02-25T10:32:32.093534",
     "exception": false,
     "start_time": "2023-02-25T10:32:32.077050",
     "status": "completed"
    },
    "tags": []
   },
   "outputs": [],
   "source": [
    "outliers = []\n",
    "cnt = 0"
   ]
  },
  {
   "cell_type": "code",
   "execution_count": 19,
   "id": "d1bd1f98",
   "metadata": {
    "execution": {
     "iopub.execute_input": "2023-02-25T10:32:32.114028Z",
     "iopub.status.busy": "2023-02-25T10:32:32.112588Z",
     "iopub.status.idle": "2023-02-25T10:32:37.927103Z",
     "shell.execute_reply": "2023-02-25T10:32:37.925981Z"
    },
    "papermill": {
     "duration": 5.829122,
     "end_time": "2023-02-25T10:32:37.931821",
     "exception": false,
     "start_time": "2023-02-25T10:32:32.102699",
     "status": "completed"
    },
    "tags": []
   },
   "outputs": [
    {
     "name": "stderr",
     "output_type": "stream",
     "text": [
      "/home/kiran/anaconda3/envs/tf_gpu/lib/python3.7/site-packages/ipykernel_launcher.py:9: RuntimeWarning: invalid value encountered in double_scalars\n",
      "  if __name__ == \"__main__\":\n",
      "/home/kiran/anaconda3/envs/tf_gpu/lib/python3.7/site-packages/ipykernel_launcher.py:9: RuntimeWarning: divide by zero encountered in double_scalars\n",
      "  if __name__ == \"__main__\":\n",
      "/home/kiran/anaconda3/envs/tf_gpu/lib/python3.7/site-packages/ipykernel_launcher.py:9: RuntimeWarning: invalid value encountered in multiply\n",
      "  if __name__ == \"__main__\":\n",
      "/home/kiran/anaconda3/envs/tf_gpu/lib/python3.7/site-packages/ipykernel_launcher.py:7: RuntimeWarning: invalid value encountered in double_scalars\n",
      "  import sys\n"
     ]
    },
    {
     "data": {
      "text/plain": [
       "(481, 732)"
      ]
     },
     "execution_count": 19,
     "metadata": {},
     "output_type": "execute_result"
    }
   ],
   "source": [
    "for o in all_data[\"cfips\"].unique():\n",
    "    indices = all_data[\"cfips\"] == o\n",
    "    current_fold = all_data.loc[indices].copy().reset_index(drop=True)\n",
    "    var = current_fold[\"microbusiness_density\"].values.copy()\n",
    "    for i in range(37, 2, -1):\n",
    "        thr = 0.20 * np.mean(var[:i])\n",
    "        difa = abs(var[i]-var[i-1])\n",
    "        if (difa>=thr):\n",
    "            var[:i] *= (var[i]/var[i-1])\n",
    "            outliers.append(o)\n",
    "            cnt+=1\n",
    "    var[0] = var[1]*0.99\n",
    "    all_data.loc[indices, 'microbusiness_density'] = var\n",
    "    \n",
    "outliers = np.unique(outliers)\n",
    "len(outliers), cnt"
   ]
  },
  {
   "cell_type": "code",
   "execution_count": 20,
   "id": "32fa5c19",
   "metadata": {
    "execution": {
     "iopub.execute_input": "2023-02-25T10:32:37.990700Z",
     "iopub.status.busy": "2023-02-25T10:32:37.989630Z",
     "iopub.status.idle": "2023-02-25T10:32:38.021284Z",
     "shell.execute_reply": "2023-02-25T10:32:38.020296Z"
    },
    "papermill": {
     "duration": 0.060624,
     "end_time": "2023-02-25T10:32:38.023969",
     "exception": false,
     "start_time": "2023-02-25T10:32:37.963345",
     "status": "completed"
    },
    "tags": []
   },
   "outputs": [],
   "source": [
    "lag=1\n",
    "all_data[f\"mbd_lag_{lag}\"] = all_data.groupby(\"cfips\")[\"microbusiness_density\"].shift(lag).bfill()\n",
    "all_data[\"diff\"] = (all_data[\"microbusiness_density\"] / all_data[f\"mbd_lag_{lag}\"]).fillna(1).clip(0, None) - 1\n",
    "all_data.loc[(all_data[f\"mbd_lag_{lag}\"] == 0), 'diff'] = 0\n",
    "all_data.loc[(all_data[\"microbusiness_density\"] > 0) & (all_data[f\"mbd_lag_{lag}\"] == 0), 'diff'] = 1\n",
    "all_data['diff'] = all_data['diff'].abs()"
   ]
  },
  {
   "cell_type": "code",
   "execution_count": 21,
   "id": "9997928a",
   "metadata": {
    "execution": {
     "iopub.execute_input": "2023-02-25T10:32:38.055112Z",
     "iopub.status.busy": "2023-02-25T10:32:38.054712Z",
     "iopub.status.idle": "2023-02-25T10:32:38.069870Z",
     "shell.execute_reply": "2023-02-25T10:32:38.068950Z"
    },
    "papermill": {
     "duration": 0.03273,
     "end_time": "2023-02-25T10:32:38.072126",
     "exception": false,
     "start_time": "2023-02-25T10:32:38.039396",
     "status": "completed"
    },
    "tags": []
   },
   "outputs": [],
   "source": [
    "all_data['target'] = all_data.groupby('cfips')['microbusiness_density'].shift(-1)\n",
    "all_data['target'] = all_data['target']/all_data['microbusiness_density'] - 1"
   ]
  },
  {
   "cell_type": "code",
   "execution_count": 22,
   "id": "975f51e8",
   "metadata": {
    "execution": {
     "iopub.execute_input": "2023-02-25T10:32:38.103561Z",
     "iopub.status.busy": "2023-02-25T10:32:38.103177Z",
     "iopub.status.idle": "2023-02-25T10:32:38.116896Z",
     "shell.execute_reply": "2023-02-25T10:32:38.116026Z"
    },
    "papermill": {
     "duration": 0.032137,
     "end_time": "2023-02-25T10:32:38.119200",
     "exception": false,
     "start_time": "2023-02-25T10:32:38.087063",
     "status": "completed"
    },
    "tags": []
   },
   "outputs": [],
   "source": [
    "all_data['lastactive'] = all_data.groupby('cfips')['active'].transform('last')"
   ]
  },
  {
   "cell_type": "code",
   "execution_count": 23,
   "id": "18c08d60",
   "metadata": {
    "execution": {
     "iopub.execute_input": "2023-02-25T10:32:38.148614Z",
     "iopub.status.busy": "2023-02-25T10:32:38.148210Z",
     "iopub.status.idle": "2023-02-25T10:32:38.165613Z",
     "shell.execute_reply": "2023-02-25T10:32:38.164723Z"
    },
    "papermill": {
     "duration": 0.035441,
     "end_time": "2023-02-25T10:32:38.168438",
     "exception": false,
     "start_time": "2023-02-25T10:32:38.132997",
     "status": "completed"
    },
    "tags": []
   },
   "outputs": [],
   "source": [
    "md_mapping = all_data.loc[all_data.dcount==28].groupby('cfips')['microbusiness_density'].agg('last')"
   ]
  },
  {
   "cell_type": "code",
   "execution_count": 24,
   "id": "589ef985",
   "metadata": {
    "execution": {
     "iopub.execute_input": "2023-02-25T10:32:38.198750Z",
     "iopub.status.busy": "2023-02-25T10:32:38.198254Z",
     "iopub.status.idle": "2023-02-25T10:32:38.210364Z",
     "shell.execute_reply": "2023-02-25T10:32:38.208600Z"
    },
    "papermill": {
     "duration": 0.028998,
     "end_time": "2023-02-25T10:32:38.212454",
     "exception": false,
     "start_time": "2023-02-25T10:32:38.183456",
     "status": "completed"
    },
    "tags": []
   },
   "outputs": [],
   "source": [
    "all_data['lasttarget'] = all_data['cfips'].map(md_mapping)"
   ]
  },
  {
   "cell_type": "code",
   "execution_count": 25,
   "id": "3996f994",
   "metadata": {
    "execution": {
     "iopub.execute_input": "2023-02-25T10:32:38.240841Z",
     "iopub.status.busy": "2023-02-25T10:32:38.240533Z",
     "iopub.status.idle": "2023-02-25T10:32:38.250736Z",
     "shell.execute_reply": "2023-02-25T10:32:38.249930Z"
    },
    "papermill": {
     "duration": 0.026978,
     "end_time": "2023-02-25T10:32:38.253011",
     "exception": false,
     "start_time": "2023-02-25T10:32:38.226033",
     "status": "completed"
    },
    "tags": []
   },
   "outputs": [],
   "source": [
    "def build_features(raw, target='microbusiness_density', target_act='active_tmp', lags = 6):\n",
    "    feats = []\n",
    "    for lag in range(1, lags):\n",
    "        raw[f'mbd_lag_{lag}'] = raw.groupby('cfips')[target].shift(lag)\n",
    "        raw[f'act_lag_{lag}'] = raw.groupby('cfips')[target_act].diff(lag)\n",
    "        feats.append(f'mbd_lag_{lag}')\n",
    "        feats.append(f'act_lag_{lag}')\n",
    "        \n",
    "    lag = 1\n",
    "    for window in [2, 4, 6, 8, 10]:\n",
    "        raw[f'mbd_rollmea{window}_{lag}'] = raw.groupby('cfips')[f'mbd_lag_{lag}'].transform(lambda s: s.rolling(window, min_periods=1).sum())        \n",
    "        #raw[f'mbd_rollmea{window}_{lag}'] = raw[f'mbd_lag_{lag}'] - raw[f'mbd_rollmea{window}_{lag}']\n",
    "        feats.append(f'mbd_rollmea{window}_{lag}')\n",
    "        \n",
    "    return raw, feats"
   ]
  },
  {
   "cell_type": "code",
   "execution_count": 26,
   "id": "0b644a93",
   "metadata": {
    "execution": {
     "iopub.execute_input": "2023-02-25T10:32:38.281320Z",
     "iopub.status.busy": "2023-02-25T10:32:38.281010Z",
     "iopub.status.idle": "2023-02-25T10:32:44.914166Z",
     "shell.execute_reply": "2023-02-25T10:32:44.913130Z"
    },
    "papermill": {
     "duration": 6.650178,
     "end_time": "2023-02-25T10:32:44.916698",
     "exception": false,
     "start_time": "2023-02-25T10:32:38.266520",
     "status": "completed"
    },
    "tags": []
   },
   "outputs": [],
   "source": [
    "all_data, feats = build_features(all_data, 'target', 'active', lags = 5)"
   ]
  },
  {
   "cell_type": "code",
   "execution_count": 27,
   "id": "dee93a02",
   "metadata": {
    "execution": {
     "iopub.execute_input": "2023-02-25T10:32:44.938730Z",
     "iopub.status.busy": "2023-02-25T10:32:44.938397Z",
     "iopub.status.idle": "2023-02-25T10:32:44.942977Z",
     "shell.execute_reply": "2023-02-25T10:32:44.941907Z"
    },
    "papermill": {
     "duration": 0.018141,
     "end_time": "2023-02-25T10:32:44.945427",
     "exception": false,
     "start_time": "2023-02-25T10:32:44.927286",
     "status": "completed"
    },
    "tags": []
   },
   "outputs": [],
   "source": [
    "ACT_THR = 1.8\n",
    "ABS_THR = 1.00"
   ]
  },
  {
   "cell_type": "code",
   "execution_count": 28,
   "id": "a397bbb6",
   "metadata": {
    "execution": {
     "iopub.execute_input": "2023-02-25T10:32:44.967039Z",
     "iopub.status.busy": "2023-02-25T10:32:44.966166Z",
     "iopub.status.idle": "2023-02-25T10:32:44.973241Z",
     "shell.execute_reply": "2023-02-25T10:32:44.972427Z"
    },
    "papermill": {
     "duration": 0.019921,
     "end_time": "2023-02-25T10:32:44.975283",
     "exception": false,
     "start_time": "2023-02-25T10:32:44.955362",
     "status": "completed"
    },
    "tags": []
   },
   "outputs": [],
   "source": [
    "all_data_pre_processed = pd.DataFrame(columns=all_data.columns)"
   ]
  },
  {
   "cell_type": "code",
   "execution_count": 29,
   "id": "c2f1d337",
   "metadata": {
    "execution": {
     "iopub.execute_input": "2023-02-25T10:32:44.997141Z",
     "iopub.status.busy": "2023-02-25T10:32:44.996266Z",
     "iopub.status.idle": "2023-02-25T10:32:48.463435Z",
     "shell.execute_reply": "2023-02-25T10:32:48.462240Z"
    },
    "papermill": {
     "duration": 3.481431,
     "end_time": "2023-02-25T10:32:48.466563",
     "exception": false,
     "start_time": "2023-02-25T10:32:44.985132",
     "status": "completed"
    },
    "tags": []
   },
   "outputs": [
    {
     "name": "stdout",
     "output_type": "stream",
     "text": [
      "TS is 29\n",
      "TS is 30\n",
      "TS is 31\n",
      "TS is 32\n",
      "TS is 33\n",
      "TS is 34\n",
      "TS is 35\n",
      "TS is 36\n",
      "TS is 37\n",
      "TS is 38\n",
      "TS is 39\n"
     ]
    }
   ],
   "source": [
    "for TS in range(29, 40):\n",
    "    \n",
    "    print(f\"TS is {TS}\")\n",
    "    \n",
    "    scaler=MinMaxScaler()\n",
    "    \n",
    "    train_indices = (all_data.is_test==0) & (all_data.dcount  < TS) & (all_data.dcount >= 1) & (all_data.lastactive>ACT_THR)  & (all_data.lasttarget>ABS_THR)\n",
    "    \n",
    "    valid_indices = (all_data.is_test==0) & (all_data.dcount == TS)\n",
    "    \n",
    "    all_data_train_valid = all_data.loc[train_indices | valid_indices, feats]\n",
    "    \n",
    "    scaler=MinMaxScaler()\n",
    "    \n",
    "    all_data_train_valid_scaled = scaler.fit_transform(all_data_train_valid)\n",
    "    \n",
    "    res = pd.DataFrame(data=all_data_train_valid_scaled, columns=feats)\n",
    "    \n",
    "    res.fillna(method='bfill', inplace=True)\n",
    "    \n",
    "    res = res.reset_index(drop=True)\n",
    "    \n",
    "    remaining = all_data.loc[train_indices | valid_indices, [c for c in all_data.columns if c not in feats]]\n",
    "    \n",
    "    remaining = remaining.reset_index(drop=True)\n",
    "    \n",
    "    cnc = pd.concat([res, remaining], axis=\"columns\")\n",
    "    \n",
    "    cnc[\"nn_count\"] = TS\n",
    "    \n",
    "    all_data_pre_processed = pd.concat([all_data_pre_processed, cnc], axis=\"rows\")\n",
    "    \n",
    "    del cnc; gc.collect()\n",
    "    \n",
    "    #x_train = all_data.loc[train_indices, feats]\n",
    "    #x_train.fillna(method='bfill', inplace=True)\n",
    "    \n",
    "    #x_train = scaler.fit_transform(x_train.values)"
   ]
  },
  {
   "cell_type": "code",
   "execution_count": 30,
   "id": "f6256cce",
   "metadata": {
    "execution": {
     "iopub.execute_input": "2023-02-25T10:32:48.490793Z",
     "iopub.status.busy": "2023-02-25T10:32:48.489048Z",
     "iopub.status.idle": "2023-02-25T10:32:48.500336Z",
     "shell.execute_reply": "2023-02-25T10:32:48.499224Z"
    },
    "papermill": {
     "duration": 0.025009,
     "end_time": "2023-02-25T10:32:48.502461",
     "exception": false,
     "start_time": "2023-02-25T10:32:48.477452",
     "status": "completed"
    },
    "tags": []
   },
   "outputs": [],
   "source": [
    "all_data_pre_processed[\"nn_count\"] = all_data_pre_processed[\"nn_count\"].astype(int)"
   ]
  },
  {
   "cell_type": "code",
   "execution_count": 31,
   "id": "4ab02191",
   "metadata": {
    "execution": {
     "iopub.execute_input": "2023-02-25T10:32:48.524773Z",
     "iopub.status.busy": "2023-02-25T10:32:48.524472Z",
     "iopub.status.idle": "2023-02-25T10:32:48.812947Z",
     "shell.execute_reply": "2023-02-25T10:32:48.811969Z"
    },
    "papermill": {
     "duration": 0.30212,
     "end_time": "2023-02-25T10:32:48.815433",
     "exception": false,
     "start_time": "2023-02-25T10:32:48.513313",
     "status": "completed"
    },
    "tags": []
   },
   "outputs": [],
   "source": [
    "TS=39\n",
    "train_indices = (all_data_pre_processed.is_test==0) & (all_data_pre_processed.dcount  < TS) & (all_data_pre_processed.nn_count == TS) & (all_data_pre_processed.dcount >= 1) & (all_data_pre_processed.lastactive>ACT_THR)  & (all_data_pre_processed.lasttarget>ABS_THR)\n",
    "valid_indices = (all_data_pre_processed.is_test==0) & (all_data_pre_processed.dcount == TS) & (all_data_pre_processed.nn_count == TS) & (all_data_pre_processed.dcount >= 1) & (all_data_pre_processed.lastactive>ACT_THR)  & (all_data_pre_processed.lasttarget>ABS_THR)"
   ]
  },
  {
   "cell_type": "code",
   "execution_count": 32,
   "id": "b06b01d9",
   "metadata": {
    "execution": {
     "iopub.execute_input": "2023-02-25T10:32:48.838810Z",
     "iopub.status.busy": "2023-02-25T10:32:48.837202Z",
     "iopub.status.idle": "2023-02-25T10:32:48.847773Z",
     "shell.execute_reply": "2023-02-25T10:32:48.846781Z"
    },
    "papermill": {
     "duration": 0.024202,
     "end_time": "2023-02-25T10:32:48.850196",
     "exception": false,
     "start_time": "2023-02-25T10:32:48.825994",
     "status": "completed"
    },
    "tags": []
   },
   "outputs": [],
   "source": [
    "all_data_pre_processed[\"nn_count\"] = all_data_pre_processed[\"nn_count\"].astype(int)"
   ]
  },
  {
   "cell_type": "code",
   "execution_count": 33,
   "id": "4eff4e50",
   "metadata": {
    "execution": {
     "iopub.execute_input": "2023-02-25T10:32:48.871272Z",
     "iopub.status.busy": "2023-02-25T10:32:48.870968Z",
     "iopub.status.idle": "2023-02-25T10:32:48.876414Z",
     "shell.execute_reply": "2023-02-25T10:32:48.875514Z"
    },
    "papermill": {
     "duration": 0.018258,
     "end_time": "2023-02-25T10:32:48.878538",
     "exception": false,
     "start_time": "2023-02-25T10:32:48.860280",
     "status": "completed"
    },
    "tags": []
   },
   "outputs": [],
   "source": [
    "def smape(y_true, y_pred):\n",
    "    smap = np.zeros(len(y_true))\n",
    "    \n",
    "    num = np.abs(y_true - y_pred)\n",
    "    dem = ((np.abs(y_true) + np.abs(y_pred)) / 2)\n",
    "    \n",
    "    pos_ind = (y_true!=0)|(y_pred!=0)\n",
    "    smap[pos_ind] = num[pos_ind] / dem[pos_ind]\n",
    "    \n",
    "    return 100 * np.mean(smap)"
   ]
  },
  {
   "cell_type": "code",
   "execution_count": 34,
   "id": "a4163354",
   "metadata": {
    "execution": {
     "iopub.execute_input": "2023-02-25T10:32:48.903901Z",
     "iopub.status.busy": "2023-02-25T10:32:48.902982Z",
     "iopub.status.idle": "2023-02-25T10:32:48.920700Z",
     "shell.execute_reply": "2023-02-25T10:32:48.919214Z"
    },
    "papermill": {
     "duration": 0.035861,
     "end_time": "2023-02-25T10:32:48.924598",
     "exception": false,
     "start_time": "2023-02-25T10:32:48.888737",
     "status": "completed"
    },
    "tags": []
   },
   "outputs": [],
   "source": [
    "def build_model(pred_length, initializer):\n",
    "    \n",
    "    if 'seed' in initializer().__dict__.keys():\n",
    "        a_initializer = initializer(seed=42)\n",
    "        another_initializer = initializer(seed=42)\n",
    "    else:\n",
    "        a_initializer = initializer()\n",
    "        another_initializer = initializer()\n",
    "        \n",
    "    model=tf.keras.Sequential([\n",
    "        tf.keras.layers.SimpleRNN(32,return_sequences=False, input_shape=[None, 13], kernel_initializer = a_initializer),\n",
    "        tf.keras.layers.Dense(pred_length, kernel_initializer = another_initializer)\n",
    "    ])\n",
    "    \n",
    "    model.compile(loss=tf.keras.losses.Huber(), optimizer=tf.keras.optimizers.SGD(learning_rate=0.01, momentum=0.9), metrics=[tf.keras.metrics.RootMeanSquaredError()])\n",
    "    return model"
   ]
  },
  {
   "cell_type": "code",
   "execution_count": 35,
   "id": "82da96d2",
   "metadata": {
    "execution": {
     "iopub.execute_input": "2023-02-25T10:32:48.964868Z",
     "iopub.status.busy": "2023-02-25T10:32:48.964048Z",
     "iopub.status.idle": "2023-02-25T10:32:48.979400Z",
     "shell.execute_reply": "2023-02-25T10:32:48.977255Z"
    },
    "papermill": {
     "duration": 0.042856,
     "end_time": "2023-02-25T10:32:48.982234",
     "exception": false,
     "start_time": "2023-02-25T10:32:48.939378",
     "status": "completed"
    },
    "tags": []
   },
   "outputs": [],
   "source": [
    "def build_lstm_model(initializer, pred_length):\n",
    "    \n",
    "    if 'seed' in initializer().__dict__.keys():\n",
    "        a_initializer = initializer(seed=42)\n",
    "        another_initializer = initializer(seed=42)\n",
    "    else:\n",
    "        a_initializer = initializer()\n",
    "        another_initializer = initializer()\n",
    "    \n",
    "    model=tf.keras.Sequential([\n",
    "        tf.keras.layers.LSTM(16,return_sequences=False, input_shape=[None, 13], kernel_initializer=a_initializer),\n",
    "        tf.keras.layers.Dense(pred_length, kernel_initializer=another_initializer)\n",
    "    ])\n",
    "    \n",
    "    model.compile(loss=tf.keras.losses.Huber(), optimizer=tf.keras.optimizers.SGD(learning_rate=0.01, momentum=0.9), metrics=[tf.keras.metrics.RootMeanSquaredError()])\n",
    "    return model"
   ]
  },
  {
   "cell_type": "code",
   "execution_count": 36,
   "id": "69d45d4f",
   "metadata": {
    "execution": {
     "iopub.execute_input": "2023-02-25T10:32:49.033675Z",
     "iopub.status.busy": "2023-02-25T10:32:49.033239Z",
     "iopub.status.idle": "2023-02-25T10:32:50.286310Z",
     "shell.execute_reply": "2023-02-25T10:32:50.285226Z"
    },
    "papermill": {
     "duration": 1.275616,
     "end_time": "2023-02-25T10:32:50.289008",
     "exception": false,
     "start_time": "2023-02-25T10:32:49.013392",
     "status": "completed"
    },
    "tags": []
   },
   "outputs": [],
   "source": [
    "all_data_pre_processed = all_data_pre_processed.sort_values(['cfips','row_id']).reset_index(drop=True)"
   ]
  },
  {
   "cell_type": "code",
   "execution_count": 37,
   "id": "027cc1b4",
   "metadata": {
    "execution": {
     "iopub.execute_input": "2023-02-25T10:32:50.313508Z",
     "iopub.status.busy": "2023-02-25T10:32:50.312632Z",
     "iopub.status.idle": "2023-02-25T10:32:50.317531Z",
     "shell.execute_reply": "2023-02-25T10:32:50.316644Z"
    },
    "papermill": {
     "duration": 0.019812,
     "end_time": "2023-02-25T10:32:50.319861",
     "exception": false,
     "start_time": "2023-02-25T10:32:50.300049",
     "status": "completed"
    },
    "tags": []
   },
   "outputs": [],
   "source": [
    "predictions = {}"
   ]
  },
  {
   "cell_type": "code",
   "execution_count": 38,
   "id": "95ddad17",
   "metadata": {
    "execution": {
     "iopub.execute_input": "2023-02-25T10:32:50.341290Z",
     "iopub.status.busy": "2023-02-25T10:32:50.341023Z",
     "iopub.status.idle": "2023-02-25T10:32:50.377523Z",
     "shell.execute_reply": "2023-02-25T10:32:50.376681Z"
    },
    "papermill": {
     "duration": 0.049618,
     "end_time": "2023-02-25T10:32:50.379702",
     "exception": false,
     "start_time": "2023-02-25T10:32:50.330084",
     "status": "completed"
    },
    "tags": []
   },
   "outputs": [],
   "source": [
    "blacklist = [\n",
    "    'North Dakota', 'Iowa', 'Kansas', 'Nebraska', 'South Dakota','New Mexico', 'Alaska', 'Vermont'\n",
    "]\n",
    "blacklistcfips = [\n",
    "1019,1027,1029,1035,1039,1045,1049,1057,1067,1071,1077,1085,1091,1099,1101,1123,1131,1133,4001,4012,4013,4021,4023,5001,5003,5005,5017,5019,5027,5031,5035,5047,5063,5065,5071,5081,5083,5087,5091,5093,5107,5109,5115,5121,5137,5139,5141,5147,6003,6015,6027,6033,6053,6055,6057,6071,6093,6097,6103,6105,6115,8003,8007,8009,8019,8021,8023,8047,8051,8053,8055,8057,8059,8061,8065,8067,8069,8071,8073,8075,8085,8091,8093,8097,8099,8103,8105,8107,8109,8111,8115,8117,8121,9007,9009,9015,12009,12017,12019,12029,12047,12055,12065,12075,12093,12107,12127,13005,13007,13015,13017,13019,13027,13035,13047,13065,13081,13083,13099,13107,13109,13117,13119,13121,13123,13125,13127,13135,13143,13147,13161,13165,13171,13175,13181,13193,13201,13221,13225,13229,13231,13233,13245,13247,13249,13257,13279,13281,13287,13289,13293,13301,13319,15001,15005,15007,16001,16003,16005,16007,16013,16015,16017,16023,16025,16029,16031,16033,16035,16037,16043,16045,16049,16061,16063,16067,17001,17003,17007,17009,17013,17015,17023,17025,17031,17035,17045,17051,17059,17061,17063,17065,17067,17069,17075,17077,17081,17085,17087,17103,17105,17107,17109,17115,17117,17123,17127,17133,17137,17141,17143,17147,17153,17167,17169,17171,17177,17179,17181,17185,17187,17193,18001,18007,18009,18013,18015,18019,18021,18025,18035,18037,18039,18041,18053,18061,18075,18079,18083,18087,18099,18103,18111,18113,18115,18137,18139,18145,18153,18171,18179,21001,21003,21013,21017,21023,21029,21035,21037,21039,21045,21047,21055,21059,21065,21075,21077,21085,21091,21093,21097,21099,21101,21103,21115,21125,21137,21139,21141,21149,21155,21157,21161,21165,21179,21183,21191,21197,21199,21215,21217,21223,21227,21237,21239,22019,22021,22031,22039,22041,22047,22069,22085,22089,22101,22103,22109,22111,22115,22119,22121,23003,23009,23021,23027,23029,24011,24027,24029,24031,24035,24037,24039,24041,25011,25015,26003,26007,26011,26019,26021,26025,26027,26033,26037,26041,26043,26051,26053,26057,26059,26061,26065,26071,26077,26079,26083,26089,26097,26101,26103,26109,26111,26115,26117,26119,26127,26129,26131,26135,26141,26143,26155,26161,26165,27005,27011,27013,27015,27017,27021,27023,27025,27029,27047,27051,27055,27057,27065,27069,27073,27075,27077,27079,27087,27091,27095,27101,27103,27105,27107,27109,27113,27117,27119,27123,27125,27129,27131,27133,27135,27141,27147,27149,27155,27159,27167,27169,28017,28019,28023,28025,28035,28045,28049,28061,28063,28093,28097,28099,28125,28137,28139,28147,28159,29001,29015,29019,29031,29033,29041,29049,29051,29055,29057,29063,29065,29069,29075,29085,29089,29101,29103,29111,29121,29123,29125,29135,29137,29139,29143,29157,29159,29161,29167,29171,29173,29175,29177,29183,29195,29197,29199,29203,29205,29207,29209,29213,29215,29217,29223,29227,29229,30005,30009,30025,30027,30033,30035,30037,30039,30045,30049,30051,30053,30055,30057,30059,30069,30071,30073,30077,30079,30083,30085,30089,30091,30093,30101,30103,30105,30107,30109,32005,32009,32017,32023,32027,32029,32510,33005,33007,34021,34027,34033,34035,36011,36017,36023,36033,36043,36047,36049,36051,36057,36061,36067,36083,36091,36097,36103,36107,36113,36115,36121,36123,37005,37009,37011,37017,37023,37029,37031,37049,37061,37075,37095,37117,37123,37131,37137,37151,37187,37189,37197,39005,39009,39015,39017,39019,39023,39037,39039,39043,39049,39053,39057,39063,39067,39071,39077,39085,39087,39091,39097,39105,39107,39113,39117,39119,39125,39127,39129,39135,39137,39151,39153,39157,40003,40013,40015,40023,40025,40027,40035,40039,40043,40045,40053,40055,40057,40059,40065,40067,40073,40077,40079,40099,40105,40107,40111,40115,40123,40127,40129,40133,40141,40147,40151,40153,41001,41007,41013,41015,41017,41021,41025,41031,41033,41037,41051,41055,41063,41067,41069,42005,42007,42011,42013,42015,42019,42027,42029,42031,42035,42053,42057,42067,42071,42083,42085,42093,42097,42105,42111,42113,42115,42123,42125,42127,42129,44005,44007,44009,45001,45009,45021,45025,45031,45059,45067,45071,45073,45089,47001,47005,47013,47015,47019,47021,47023,47027,47035,47039,47041,47047,47055,47057,47059,47061,47069,47073,47075,47077,47083,47087,47099,47105,47121,47127,47131,47133,47135,47137,47147,47151,47153,47159,47161,47163,47169,47177,47183,47185,48001,48011,48017,48019,48045,48057,48059,48063,48065,48073,48077,48079,48081,48083,48087,48095,48101,48103,48107,48109,48115,48117,48119,48123,48125,48129,48149,48151,48153,48155,48159,48161,48165,48175,48189,48191,48195,48197,48211,48221,48229,48233,48235,48237,48239,48241,48243,48245,48255,48261,48263,48265,48267,48269,48275,48277,48283,48293,48299,48305,48311,48313,48319,48321,48323,48327,48333,48345,48347,48355,48369,48377,48379,48383,48387,48389,48401,48403,48413,48417,48431,48433,48437,48443,48447,48453,48455,48457,48461,48463,48465,48469,48471,48481,48483,48485,48487,48495,48499,49001,49009,49013,49019,49027,49031,49045,51005,51017,51025,51029,51031,51036,51037,51043,51057,51059,51065,51071,51073,51077,51079,51083,51091,51095,51097,51101,51111,51115,51119,51121,51127,51135,51147,51155,51159,51165,51167,51171,51173,51181,51183,51191,51197,51530,51590,51610,51620,51670,51678,51720,51735,51750,51770,51810,51820,53013,53019,53023,53031,53033,53037,53039,53041,53047,53065,53069,53071,53075,54013,54019,54025,54031,54033,54041,54049,54055,54057,54063,54067,54071,54077,54079,54085,54089,54103,55001,55003,55005,55007,55011,55017,55021,55025,55029,55037,55043,55047,55049,55051,55061,55065,55067,55075,55077,55091,55097,55101,55103,55109,55117,55123,55125,55127,56007,56009,56011,56015,56017,56019,56021,56027,56031,56037,56043,56045,\n",
    "12061,  6095, 49025, 18073, 29029, 29097, 48419, 51830, 30067, 26095, 18159, 32001, 54065, 54027, 13043, 48177, 55069, 48137, 30087, 29007, 13055, 48295, 28157, 29037, 45061, 22053, 13199, 47171, 53001, 55041, 51195, 18127, 29151, 48307, 51009, 16047, 29133,  5145, 17175, 21027, 48357, 29179, 13023, 16077, 48371, 21057, 16039, 21143, 48435, 48317, 48475,  5129, 36041, 48075, 29017, 47175, 39167, 47109, 17189, 17173, 28009, 39027, 48133, 18129, 48217, 40081, 36021,  6005, 42099, 18051, 36055, 53051, 6109, 21073, 27019,  6051, 48055,  8083, 48503, 17021, 10003, 41061, 22001, 22011, 21205, 48223, 51103, 51047, 16069, 17033, 41011,  6035, 47145, 27083, 18165, 36055, 12001, 26159,  8125, 34017,\n",
    "28141, 55119, 48405, 40029, 18125, 21135, 29073, 55115, 37149,55039, 26029, 12099, 13251, 48421, 39007, 41043, 22015, 37115,54099, 51137, 22049, 55131, 17159, 56001, 40005, 18017, 28091,47101, 27037, 29005, 13239, 21019, 55085, 48253, 51139, 40101,13283, 18049, 39163, 45049, 51113,\n",
    "]"
   ]
  },
  {
   "cell_type": "code",
   "execution_count": 39,
   "id": "65e81b2c",
   "metadata": {
    "execution": {
     "iopub.execute_input": "2023-02-25T10:32:50.401654Z",
     "iopub.status.busy": "2023-02-25T10:32:50.401362Z",
     "iopub.status.idle": "2023-02-25T10:32:51.246480Z",
     "shell.execute_reply": "2023-02-25T10:32:51.245474Z"
    },
    "papermill": {
     "duration": 0.85923,
     "end_time": "2023-02-25T10:32:51.248983",
     "exception": false,
     "start_time": "2023-02-25T10:32:50.389753",
     "status": "completed"
    },
    "tags": []
   },
   "outputs": [],
   "source": [
    "models = {\"lstm_model\": build_lstm_model, \"simple_rnn\": build_model}\n",
    "\n",
    "if not VALIDATE:\n",
    "    best_model_params = {\"lstm_model\": (tf.keras.initializers.Constant, -1,False), \"simple_rnn\": (tf.keras.initializers.RandomNormal, -1, True)}"
   ]
  },
  {
   "cell_type": "code",
   "execution_count": 40,
   "id": "7299705b",
   "metadata": {
    "execution": {
     "iopub.execute_input": "2023-02-25T10:32:51.271089Z",
     "iopub.status.busy": "2023-02-25T10:32:51.270111Z",
     "iopub.status.idle": "2023-02-25T10:32:51.274847Z",
     "shell.execute_reply": "2023-02-25T10:32:51.273996Z"
    },
    "papermill": {
     "duration": 0.017408,
     "end_time": "2023-02-25T10:32:51.276725",
     "exception": false,
     "start_time": "2023-02-25T10:32:51.259317",
     "status": "completed"
    },
    "tags": []
   },
   "outputs": [],
   "source": [
    "all_tf_initializers = []"
   ]
  },
  {
   "cell_type": "code",
   "execution_count": 41,
   "id": "e3a039f5",
   "metadata": {
    "execution": {
     "iopub.execute_input": "2023-02-25T10:32:51.299069Z",
     "iopub.status.busy": "2023-02-25T10:32:51.298064Z",
     "iopub.status.idle": "2023-02-25T10:32:51.303515Z",
     "shell.execute_reply": "2023-02-25T10:32:51.302634Z"
    },
    "papermill": {
     "duration": 0.018701,
     "end_time": "2023-02-25T10:32:51.305547",
     "exception": false,
     "start_time": "2023-02-25T10:32:51.286846",
     "status": "completed"
    },
    "tags": []
   },
   "outputs": [],
   "source": [
    "import tensorflow.keras.initializers as initializers\n",
    "import inspect"
   ]
  },
  {
   "cell_type": "code",
   "execution_count": 42,
   "id": "f36deb91",
   "metadata": {
    "execution": {
     "iopub.execute_input": "2023-02-25T10:32:51.327988Z",
     "iopub.status.busy": "2023-02-25T10:32:51.327238Z",
     "iopub.status.idle": "2023-02-25T10:32:51.332540Z",
     "shell.execute_reply": "2023-02-25T10:32:51.331669Z"
    },
    "papermill": {
     "duration": 0.018461,
     "end_time": "2023-02-25T10:32:51.334519",
     "exception": false,
     "start_time": "2023-02-25T10:32:51.316058",
     "status": "completed"
    },
    "tags": []
   },
   "outputs": [],
   "source": [
    "for name, initializer in inspect.getmembers(initializers):\n",
    "    if inspect.isclass(initializer):\n",
    "        all_tf_initializers.append((name, initializer))"
   ]
  },
  {
   "cell_type": "code",
   "execution_count": 43,
   "id": "6ea7af0c",
   "metadata": {
    "execution": {
     "iopub.execute_input": "2023-02-25T10:32:51.355679Z",
     "iopub.status.busy": "2023-02-25T10:32:51.354856Z",
     "iopub.status.idle": "2023-02-25T10:32:51.359584Z",
     "shell.execute_reply": "2023-02-25T10:32:51.358645Z"
    },
    "papermill": {
     "duration": 0.01733,
     "end_time": "2023-02-25T10:32:51.361600",
     "exception": false,
     "start_time": "2023-02-25T10:32:51.344270",
     "status": "completed"
    },
    "tags": []
   },
   "outputs": [],
   "source": [
    "best_score = (None, 1e6)"
   ]
  },
  {
   "cell_type": "code",
   "execution_count": 44,
   "id": "6d4737eb",
   "metadata": {
    "execution": {
     "iopub.execute_input": "2023-02-25T10:32:51.383080Z",
     "iopub.status.busy": "2023-02-25T10:32:51.382773Z",
     "iopub.status.idle": "2023-02-25T10:32:51.403257Z",
     "shell.execute_reply": "2023-02-25T10:32:51.402286Z"
    },
    "papermill": {
     "duration": 0.033814,
     "end_time": "2023-02-25T10:32:51.405404",
     "exception": false,
     "start_time": "2023-02-25T10:32:51.371590",
     "status": "completed"
    },
    "tags": []
   },
   "outputs": [],
   "source": [
    "BATCH_SIZE=4\n",
    "\n",
    "if VALIDATE:\n",
    "    \n",
    "    best_model_params = {}\n",
    "\n",
    "    for m in models.keys():\n",
    "\n",
    "        best_score = (None, 1e6)\n",
    "\n",
    "        print(f\"------- fitting model {m} -------\")\n",
    "\n",
    "        for name, initializer in all_tf_initializers:\n",
    "            print(f\"------- using initializer {name} -------\")\n",
    "\n",
    "            smps = []\n",
    "\n",
    "            for TS in range(29, 39):\n",
    "\n",
    "                #x_target=x_target.clip(-0.00043, 0.00045)\n",
    "\n",
    "                try:\n",
    "                    model = models[m](pred_length=1, initializer=initializer)\n",
    "                except NotImplementedError as nime:\n",
    "                    print(f\" initializer {name} not implemented for {m}\")\n",
    "                    break\n",
    "\n",
    "                all_data_pre_processed_cp = all_data_pre_processed.copy()\n",
    "\n",
    "                train_indices = (all_data_pre_processed_cp.is_test==0) & (all_data_pre_processed_cp.dcount  < TS) & (all_data_pre_processed_cp.nn_count == TS) & (all_data_pre_processed_cp.dcount >= 1) & (all_data_pre_processed_cp.lastactive>ACT_THR)  & (all_data_pre_processed_cp.lasttarget>ABS_THR)\n",
    "\n",
    "                x_train = all_data_pre_processed_cp.loc[train_indices, feats]\n",
    "\n",
    "                x_train = x_train.values.reshape(BATCH_SIZE, -1, x_train.shape[1])\n",
    "\n",
    "                x_target = all_data_pre_processed_cp.loc[train_indices, 'target']\n",
    "\n",
    "                x_target = x_target.values.reshape(BATCH_SIZE, -1, 1)\n",
    "\n",
    "                #print(model.layers[0].get_weights()[0])\n",
    "\n",
    "                model.fit(x_train, x_target, epochs=1, batch_size=BATCH_SIZE, verbose=0)\n",
    "\n",
    "\n",
    "\n",
    "                valid_indices = (all_data_pre_processed_cp.is_test==0) & (all_data_pre_processed_cp.dcount == TS) & (all_data_pre_processed_cp.nn_count == TS)\n",
    "\n",
    "                df_x = all_data_pre_processed_cp.loc[valid_indices, feats]\n",
    "\n",
    "                ypred = model.predict(np.array([df_x]))\n",
    "\n",
    "                all_data_pre_processed_cp.loc[valid_indices, 'k'] = ypred[0].ravel()[0] + 1\n",
    "\n",
    "                all_data_pre_processed_cp.loc[valid_indices,'k'] = all_data_pre_processed_cp.loc[valid_indices,'k'] * all_data_pre_processed_cp.loc[valid_indices,'microbusiness_density']\n",
    "\n",
    "                nn_indices = (all_data_pre_processed_cp.dcount==TS) & (all_data_pre_processed_cp.nn_count == TS)\n",
    "\n",
    "                lastval = all_data_pre_processed_cp.loc[nn_indices, ['cfips', 'microbusiness_density']].set_index('cfips').to_dict()['microbusiness_density']\n",
    "\n",
    "                df = all_data_pre_processed_cp.loc[(all_data_pre_processed_cp.dcount==TS+1) & (all_data_pre_processed_cp.nn_count == TS+1), ['cfips', 'microbusiness_density', 'state', 'lastactive', 'mbd_lag_1']].reset_index(drop=True)\n",
    "\n",
    "                dt = all_data_pre_processed_cp.loc[nn_indices, [\"cfips\", \"k\"]].set_index('cfips').to_dict()['k']\n",
    "\n",
    "                df['lastval'] = df['cfips'].map(lastval)\n",
    "\n",
    "                df['pred'] = df['cfips'].map(dt)\n",
    "\n",
    "                df.loc[df['lastactive']<=ACT_THR, 'pred'] = df.loc[df['lastactive']<=ACT_THR, 'lastval']\n",
    "\n",
    "                df.loc[df['lastval']<=ABS_THR, 'pred'] = df.loc[df['lastval']<=ABS_THR, 'lastval']\n",
    "\n",
    "                df.loc[df['state'].isin(blacklist), 'pred'] = df.loc[df['state'].isin(blacklist), 'lastval']\n",
    "\n",
    "                df.loc[df['cfips'].isin(blacklistcfips), 'pred'] = df.loc[df['cfips'].isin(blacklistcfips), 'lastval']\n",
    "\n",
    "                all_data_pre_processed.loc[(all_data_pre_processed.dcount==(TS+1)) & (all_data_pre_processed.nn_count==(TS+1)), 'ypred'] = df['pred'].values\n",
    "\n",
    "                all_data_pre_processed.loc[(all_data_pre_processed.dcount==(TS+1)) & (all_data_pre_processed.nn_count==(TS+1)), 'ypred_last'] = df['lastval'].values\n",
    "\n",
    "\n",
    "                smp = smape(df['microbusiness_density'], df['pred'])\n",
    "\n",
    "                smp_last_val = smape(df['microbusiness_density'], df['lastval'])\n",
    "\n",
    "                smps.append(smp)\n",
    "\n",
    "                print(f'{m} for timestep: {TS} --- ', smp)\n",
    "\n",
    "                print(f'SMAPE LastVal for timestep: {TS} --- ', smp_last_val)\n",
    "\n",
    "                #del df, dt, lastval, nn_indices, all_data_pre_processed_cp, df_x, ypred; gc.collect()\n",
    "\n",
    "\n",
    "                predictions[TS] = smps\n",
    "\n",
    "                del df, dt, lastval, nn_indices, all_data_pre_processed_cp, df_x, ypred, x_train, x_target; gc.collect()\n",
    "\n",
    "            mean_pred = np.asarray(smps).mean()\n",
    "            if mean_pred < best_score[1]:\n",
    "                best_score = (initializer, mean_pred)\n",
    "\n",
    "        best_model_params[m] = best_score"
   ]
  },
  {
   "cell_type": "code",
   "execution_count": 45,
   "id": "8e45ab4d",
   "metadata": {
    "execution": {
     "iopub.execute_input": "2023-02-25T10:32:51.426854Z",
     "iopub.status.busy": "2023-02-25T10:32:51.425994Z",
     "iopub.status.idle": "2023-02-25T10:32:51.432812Z",
     "shell.execute_reply": "2023-02-25T10:32:51.431846Z"
    },
    "papermill": {
     "duration": 0.01945,
     "end_time": "2023-02-25T10:32:51.434748",
     "exception": false,
     "start_time": "2023-02-25T10:32:51.415298",
     "status": "completed"
    },
    "tags": []
   },
   "outputs": [
    {
     "data": {
      "text/plain": [
       "['best_models.bin']"
      ]
     },
     "execution_count": 45,
     "metadata": {},
     "output_type": "execute_result"
    }
   ],
   "source": [
    "joblib.dump(best_model_params, \"best_models.bin\")"
   ]
  },
  {
   "cell_type": "code",
   "execution_count": 46,
   "id": "fd7bde83",
   "metadata": {
    "execution": {
     "iopub.execute_input": "2023-02-25T10:32:51.456327Z",
     "iopub.status.busy": "2023-02-25T10:32:51.455582Z",
     "iopub.status.idle": "2023-02-25T10:32:51.460557Z",
     "shell.execute_reply": "2023-02-25T10:32:51.459724Z"
    },
    "papermill": {
     "duration": 0.017869,
     "end_time": "2023-02-25T10:32:51.462464",
     "exception": false,
     "start_time": "2023-02-25T10:32:51.444595",
     "status": "completed"
    },
    "tags": []
   },
   "outputs": [],
   "source": [
    "if VALIDATE:\n",
    "    for mod in best_model_params.keys():\n",
    "        print(f\"model {mod} best validator: {best_model_params[mod][0]} --- best score: {best_model_params[mod][1]} ---\")"
   ]
  },
  {
   "cell_type": "code",
   "execution_count": 47,
   "id": "6bab0d90",
   "metadata": {
    "execution": {
     "iopub.execute_input": "2023-02-25T10:32:51.484581Z",
     "iopub.status.busy": "2023-02-25T10:32:51.483622Z",
     "iopub.status.idle": "2023-02-25T10:33:25.780474Z",
     "shell.execute_reply": "2023-02-25T10:33:25.779424Z"
    },
    "papermill": {
     "duration": 34.310689,
     "end_time": "2023-02-25T10:33:25.783122",
     "exception": false,
     "start_time": "2023-02-25T10:32:51.472433",
     "status": "completed"
    },
    "tags": []
   },
   "outputs": [
    {
     "name": "stdout",
     "output_type": "stream",
     "text": [
      "fitting model lstm_model for timestep: 39 best initializer is <class 'tensorflow.python.keras.initializers.initializers_v2.Constant'>\n"
     ]
    },
    {
     "name": "stderr",
     "output_type": "stream",
     "text": [
      "2023-03-12 20:33:16.921755: I tensorflow/compiler/jit/xla_cpu_device.cc:41] Not creating XLA devices, tf_xla_enable_xla_devices not set\n",
      "2023-03-12 20:33:16.922323: I tensorflow/stream_executor/platform/default/dso_loader.cc:49] Successfully opened dynamic library libcuda.so.1\n",
      "2023-03-12 20:33:16.953858: I tensorflow/stream_executor/cuda/cuda_gpu_executor.cc:941] successful NUMA node read from SysFS had negative value (-1), but there must be at least one NUMA node, so returning NUMA node zero\n",
      "2023-03-12 20:33:16.954016: I tensorflow/core/common_runtime/gpu/gpu_device.cc:1720] Found device 0 with properties: \n",
      "pciBusID: 0000:01:00.0 name: NVIDIA GeForce GTX 1660 Ti computeCapability: 7.5\n",
      "coreClock: 1.59GHz coreCount: 24 deviceMemorySize: 5.79GiB deviceMemoryBandwidth: 268.26GiB/s\n",
      "2023-03-12 20:33:16.954034: I tensorflow/stream_executor/platform/default/dso_loader.cc:49] Successfully opened dynamic library libcudart.so.10.1\n",
      "2023-03-12 20:33:16.954957: I tensorflow/stream_executor/platform/default/dso_loader.cc:49] Successfully opened dynamic library libcublas.so.10\n",
      "2023-03-12 20:33:16.954993: I tensorflow/stream_executor/platform/default/dso_loader.cc:49] Successfully opened dynamic library libcublasLt.so.10\n",
      "2023-03-12 20:33:16.955951: I tensorflow/stream_executor/platform/default/dso_loader.cc:49] Successfully opened dynamic library libcufft.so.10\n",
      "2023-03-12 20:33:16.956155: I tensorflow/stream_executor/platform/default/dso_loader.cc:49] Successfully opened dynamic library libcurand.so.10\n",
      "2023-03-12 20:33:16.957019: I tensorflow/stream_executor/platform/default/dso_loader.cc:49] Successfully opened dynamic library libcusolver.so.10\n",
      "2023-03-12 20:33:16.957530: I tensorflow/stream_executor/platform/default/dso_loader.cc:49] Successfully opened dynamic library libcusparse.so.10\n",
      "2023-03-12 20:33:16.959442: I tensorflow/stream_executor/platform/default/dso_loader.cc:49] Successfully opened dynamic library libcudnn.so.7\n",
      "2023-03-12 20:33:16.959616: I tensorflow/stream_executor/cuda/cuda_gpu_executor.cc:941] successful NUMA node read from SysFS had negative value (-1), but there must be at least one NUMA node, so returning NUMA node zero\n",
      "2023-03-12 20:33:16.959798: I tensorflow/stream_executor/cuda/cuda_gpu_executor.cc:941] successful NUMA node read from SysFS had negative value (-1), but there must be at least one NUMA node, so returning NUMA node zero\n",
      "2023-03-12 20:33:16.960101: I tensorflow/core/common_runtime/gpu/gpu_device.cc:1862] Adding visible gpu devices: 0\n",
      "2023-03-12 20:33:16.960413: I tensorflow/core/platform/cpu_feature_guard.cc:142] This TensorFlow binary is optimized with oneAPI Deep Neural Network Library (oneDNN) to use the following CPU instructions in performance-critical operations:  SSE4.1 SSE4.2 AVX AVX2 FMA\n",
      "To enable them in other operations, rebuild TensorFlow with the appropriate compiler flags.\n",
      "2023-03-12 20:33:16.961376: I tensorflow/compiler/jit/xla_gpu_device.cc:99] Not creating XLA devices, tf_xla_enable_xla_devices not set\n",
      "2023-03-12 20:33:16.961519: I tensorflow/stream_executor/cuda/cuda_gpu_executor.cc:941] successful NUMA node read from SysFS had negative value (-1), but there must be at least one NUMA node, so returning NUMA node zero\n",
      "2023-03-12 20:33:16.961654: I tensorflow/core/common_runtime/gpu/gpu_device.cc:1720] Found device 0 with properties: \n",
      "pciBusID: 0000:01:00.0 name: NVIDIA GeForce GTX 1660 Ti computeCapability: 7.5\n",
      "coreClock: 1.59GHz coreCount: 24 deviceMemorySize: 5.79GiB deviceMemoryBandwidth: 268.26GiB/s\n",
      "2023-03-12 20:33:16.961678: I tensorflow/stream_executor/platform/default/dso_loader.cc:49] Successfully opened dynamic library libcudart.so.10.1\n",
      "2023-03-12 20:33:16.961695: I tensorflow/stream_executor/platform/default/dso_loader.cc:49] Successfully opened dynamic library libcublas.so.10\n",
      "2023-03-12 20:33:16.961705: I tensorflow/stream_executor/platform/default/dso_loader.cc:49] Successfully opened dynamic library libcublasLt.so.10\n",
      "2023-03-12 20:33:16.961714: I tensorflow/stream_executor/platform/default/dso_loader.cc:49] Successfully opened dynamic library libcufft.so.10\n",
      "2023-03-12 20:33:16.961723: I tensorflow/stream_executor/platform/default/dso_loader.cc:49] Successfully opened dynamic library libcurand.so.10\n",
      "2023-03-12 20:33:16.961733: I tensorflow/stream_executor/platform/default/dso_loader.cc:49] Successfully opened dynamic library libcusolver.so.10\n",
      "2023-03-12 20:33:16.961743: I tensorflow/stream_executor/platform/default/dso_loader.cc:49] Successfully opened dynamic library libcusparse.so.10\n",
      "2023-03-12 20:33:16.961753: I tensorflow/stream_executor/platform/default/dso_loader.cc:49] Successfully opened dynamic library libcudnn.so.7\n",
      "2023-03-12 20:33:16.961797: I tensorflow/stream_executor/cuda/cuda_gpu_executor.cc:941] successful NUMA node read from SysFS had negative value (-1), but there must be at least one NUMA node, so returning NUMA node zero\n",
      "2023-03-12 20:33:16.962018: I tensorflow/stream_executor/cuda/cuda_gpu_executor.cc:941] successful NUMA node read from SysFS had negative value (-1), but there must be at least one NUMA node, so returning NUMA node zero\n",
      "2023-03-12 20:33:16.962109: I tensorflow/core/common_runtime/gpu/gpu_device.cc:1862] Adding visible gpu devices: 0\n",
      "2023-03-12 20:33:16.962132: I tensorflow/stream_executor/platform/default/dso_loader.cc:49] Successfully opened dynamic library libcudart.so.10.1\n",
      "2023-03-12 20:33:17.342034: I tensorflow/core/common_runtime/gpu/gpu_device.cc:1261] Device interconnect StreamExecutor with strength 1 edge matrix:\n",
      "2023-03-12 20:33:17.342072: I tensorflow/core/common_runtime/gpu/gpu_device.cc:1267]      0 \n",
      "2023-03-12 20:33:17.342078: I tensorflow/core/common_runtime/gpu/gpu_device.cc:1280] 0:   N \n",
      "2023-03-12 20:33:17.342275: I tensorflow/stream_executor/cuda/cuda_gpu_executor.cc:941] successful NUMA node read from SysFS had negative value (-1), but there must be at least one NUMA node, so returning NUMA node zero\n",
      "2023-03-12 20:33:17.342439: I tensorflow/stream_executor/cuda/cuda_gpu_executor.cc:941] successful NUMA node read from SysFS had negative value (-1), but there must be at least one NUMA node, so returning NUMA node zero\n",
      "2023-03-12 20:33:17.342573: I tensorflow/stream_executor/cuda/cuda_gpu_executor.cc:941] successful NUMA node read from SysFS had negative value (-1), but there must be at least one NUMA node, so returning NUMA node zero\n",
      "2023-03-12 20:33:17.342680: I tensorflow/core/common_runtime/gpu/gpu_device.cc:1406] Created TensorFlow device (/job:localhost/replica:0/task:0/device:GPU:0 with 4674 MB memory) -> physical GPU (device: 0, name: NVIDIA GeForce GTX 1660 Ti, pci bus id: 0000:01:00.0, compute capability: 7.5)\n",
      "2023-03-12 20:33:17.591125: I tensorflow/compiler/mlir/mlir_graph_optimization_pass.cc:116] None of the MLIR optimization passes are enabled (registered 2)\n",
      "2023-03-12 20:33:17.593153: I tensorflow/core/platform/profile_utils/cpu_utils.cc:112] CPU Frequency: 2894650000 Hz\n",
      "2023-03-12 20:33:18.335607: I tensorflow/stream_executor/platform/default/dso_loader.cc:49] Successfully opened dynamic library libcublas.so.10\n",
      "2023-03-12 20:33:18.611663: I tensorflow/stream_executor/platform/default/dso_loader.cc:49] Successfully opened dynamic library libcudnn.so.7\n",
      "2023-03-12 20:33:19.166772: E tensorflow/stream_executor/cuda/cuda_dnn.cc:336] Could not create cudnn handle: CUDNN_STATUS_INTERNAL_ERROR\n",
      "2023-03-12 20:33:19.167045: W tensorflow/core/framework/op_kernel.cc:1763] OP_REQUIRES failed at cudnn_rnn_ops.cc:1514 : Unknown: Fail to find the dnn implementation.\n"
     ]
    },
    {
     "ename": "UnknownError",
     "evalue": "   Fail to find the dnn implementation.\n\t [[{{node CudnnRNN}}]]\n\t [[sequential/lstm/PartitionedCall]] [Op:__inference_train_function_2472]\n\nFunction call stack:\ntrain_function -> train_function -> train_function\n",
     "output_type": "error",
     "traceback": [
      "\u001b[0;31m---------------------------------------------------------------------------\u001b[0m",
      "\u001b[0;31mUnknownError\u001b[0m                              Traceback (most recent call last)",
      "\u001b[0;32m/tmp/ipykernel_13641/1004941120.py\u001b[0m in \u001b[0;36m<module>\u001b[0;34m\u001b[0m\n\u001b[1;32m     21\u001b[0m     \u001b[0mmodel\u001b[0m \u001b[0;34m=\u001b[0m \u001b[0mmodels\u001b[0m\u001b[0;34m[\u001b[0m\u001b[0mm\u001b[0m\u001b[0;34m]\u001b[0m\u001b[0;34m(\u001b[0m\u001b[0mpred_length\u001b[0m\u001b[0;34m=\u001b[0m\u001b[0;36m1\u001b[0m\u001b[0;34m,\u001b[0m \u001b[0minitializer\u001b[0m\u001b[0;34m=\u001b[0m\u001b[0mbest_model_params\u001b[0m\u001b[0;34m[\u001b[0m\u001b[0mm\u001b[0m\u001b[0;34m]\u001b[0m\u001b[0;34m[\u001b[0m\u001b[0;36m0\u001b[0m\u001b[0;34m]\u001b[0m\u001b[0;34m)\u001b[0m\u001b[0;34m\u001b[0m\u001b[0;34m\u001b[0m\u001b[0m\n\u001b[1;32m     22\u001b[0m \u001b[0;34m\u001b[0m\u001b[0m\n\u001b[0;32m---> 23\u001b[0;31m     \u001b[0mmodel\u001b[0m\u001b[0;34m.\u001b[0m\u001b[0mfit\u001b[0m\u001b[0;34m(\u001b[0m\u001b[0mx_train\u001b[0m\u001b[0;34m,\u001b[0m \u001b[0mx_target\u001b[0m\u001b[0;34m,\u001b[0m \u001b[0mepochs\u001b[0m\u001b[0;34m=\u001b[0m\u001b[0;36m1\u001b[0m\u001b[0;34m,\u001b[0m \u001b[0mbatch_size\u001b[0m\u001b[0;34m=\u001b[0m\u001b[0mBATCH_SIZE\u001b[0m\u001b[0;34m,\u001b[0m \u001b[0mverbose\u001b[0m\u001b[0;34m=\u001b[0m\u001b[0;36m0\u001b[0m\u001b[0;34m)\u001b[0m\u001b[0;34m\u001b[0m\u001b[0;34m\u001b[0m\u001b[0m\n\u001b[0m\u001b[1;32m     24\u001b[0m \u001b[0;34m\u001b[0m\u001b[0m\n\u001b[1;32m     25\u001b[0m \u001b[0;34m\u001b[0m\u001b[0m\n",
      "\u001b[0;32m~/anaconda3/envs/tf_gpu/lib/python3.7/site-packages/tensorflow/python/keras/engine/training.py\u001b[0m in \u001b[0;36mfit\u001b[0;34m(self, x, y, batch_size, epochs, verbose, callbacks, validation_split, validation_data, shuffle, class_weight, sample_weight, initial_epoch, steps_per_epoch, validation_steps, validation_batch_size, validation_freq, max_queue_size, workers, use_multiprocessing)\u001b[0m\n\u001b[1;32m   1098\u001b[0m                 _r=1):\n\u001b[1;32m   1099\u001b[0m               \u001b[0mcallbacks\u001b[0m\u001b[0;34m.\u001b[0m\u001b[0mon_train_batch_begin\u001b[0m\u001b[0;34m(\u001b[0m\u001b[0mstep\u001b[0m\u001b[0;34m)\u001b[0m\u001b[0;34m\u001b[0m\u001b[0;34m\u001b[0m\u001b[0m\n\u001b[0;32m-> 1100\u001b[0;31m               \u001b[0mtmp_logs\u001b[0m \u001b[0;34m=\u001b[0m \u001b[0mself\u001b[0m\u001b[0;34m.\u001b[0m\u001b[0mtrain_function\u001b[0m\u001b[0;34m(\u001b[0m\u001b[0miterator\u001b[0m\u001b[0;34m)\u001b[0m\u001b[0;34m\u001b[0m\u001b[0;34m\u001b[0m\u001b[0m\n\u001b[0m\u001b[1;32m   1101\u001b[0m               \u001b[0;32mif\u001b[0m \u001b[0mdata_handler\u001b[0m\u001b[0;34m.\u001b[0m\u001b[0mshould_sync\u001b[0m\u001b[0;34m:\u001b[0m\u001b[0;34m\u001b[0m\u001b[0;34m\u001b[0m\u001b[0m\n\u001b[1;32m   1102\u001b[0m                 \u001b[0mcontext\u001b[0m\u001b[0;34m.\u001b[0m\u001b[0masync_wait\u001b[0m\u001b[0;34m(\u001b[0m\u001b[0;34m)\u001b[0m\u001b[0;34m\u001b[0m\u001b[0;34m\u001b[0m\u001b[0m\n",
      "\u001b[0;32m~/anaconda3/envs/tf_gpu/lib/python3.7/site-packages/tensorflow/python/eager/def_function.py\u001b[0m in \u001b[0;36m__call__\u001b[0;34m(self, *args, **kwds)\u001b[0m\n\u001b[1;32m    826\u001b[0m     \u001b[0mtracing_count\u001b[0m \u001b[0;34m=\u001b[0m \u001b[0mself\u001b[0m\u001b[0;34m.\u001b[0m\u001b[0mexperimental_get_tracing_count\u001b[0m\u001b[0;34m(\u001b[0m\u001b[0;34m)\u001b[0m\u001b[0;34m\u001b[0m\u001b[0;34m\u001b[0m\u001b[0m\n\u001b[1;32m    827\u001b[0m     \u001b[0;32mwith\u001b[0m \u001b[0mtrace\u001b[0m\u001b[0;34m.\u001b[0m\u001b[0mTrace\u001b[0m\u001b[0;34m(\u001b[0m\u001b[0mself\u001b[0m\u001b[0;34m.\u001b[0m\u001b[0m_name\u001b[0m\u001b[0;34m)\u001b[0m \u001b[0;32mas\u001b[0m \u001b[0mtm\u001b[0m\u001b[0;34m:\u001b[0m\u001b[0;34m\u001b[0m\u001b[0;34m\u001b[0m\u001b[0m\n\u001b[0;32m--> 828\u001b[0;31m       \u001b[0mresult\u001b[0m \u001b[0;34m=\u001b[0m \u001b[0mself\u001b[0m\u001b[0;34m.\u001b[0m\u001b[0m_call\u001b[0m\u001b[0;34m(\u001b[0m\u001b[0;34m*\u001b[0m\u001b[0margs\u001b[0m\u001b[0;34m,\u001b[0m \u001b[0;34m**\u001b[0m\u001b[0mkwds\u001b[0m\u001b[0;34m)\u001b[0m\u001b[0;34m\u001b[0m\u001b[0;34m\u001b[0m\u001b[0m\n\u001b[0m\u001b[1;32m    829\u001b[0m       \u001b[0mcompiler\u001b[0m \u001b[0;34m=\u001b[0m \u001b[0;34m\"xla\"\u001b[0m \u001b[0;32mif\u001b[0m \u001b[0mself\u001b[0m\u001b[0;34m.\u001b[0m\u001b[0m_experimental_compile\u001b[0m \u001b[0;32melse\u001b[0m \u001b[0;34m\"nonXla\"\u001b[0m\u001b[0;34m\u001b[0m\u001b[0;34m\u001b[0m\u001b[0m\n\u001b[1;32m    830\u001b[0m       \u001b[0mnew_tracing_count\u001b[0m \u001b[0;34m=\u001b[0m \u001b[0mself\u001b[0m\u001b[0;34m.\u001b[0m\u001b[0mexperimental_get_tracing_count\u001b[0m\u001b[0;34m(\u001b[0m\u001b[0;34m)\u001b[0m\u001b[0;34m\u001b[0m\u001b[0;34m\u001b[0m\u001b[0m\n",
      "\u001b[0;32m~/anaconda3/envs/tf_gpu/lib/python3.7/site-packages/tensorflow/python/eager/def_function.py\u001b[0m in \u001b[0;36m_call\u001b[0;34m(self, *args, **kwds)\u001b[0m\n\u001b[1;32m    886\u001b[0m         \u001b[0;31m# Lifting succeeded, so variables are initialized and we can run the\u001b[0m\u001b[0;34m\u001b[0m\u001b[0;34m\u001b[0m\u001b[0;34m\u001b[0m\u001b[0m\n\u001b[1;32m    887\u001b[0m         \u001b[0;31m# stateless function.\u001b[0m\u001b[0;34m\u001b[0m\u001b[0;34m\u001b[0m\u001b[0;34m\u001b[0m\u001b[0m\n\u001b[0;32m--> 888\u001b[0;31m         \u001b[0;32mreturn\u001b[0m \u001b[0mself\u001b[0m\u001b[0;34m.\u001b[0m\u001b[0m_stateless_fn\u001b[0m\u001b[0;34m(\u001b[0m\u001b[0;34m*\u001b[0m\u001b[0margs\u001b[0m\u001b[0;34m,\u001b[0m \u001b[0;34m**\u001b[0m\u001b[0mkwds\u001b[0m\u001b[0;34m)\u001b[0m\u001b[0;34m\u001b[0m\u001b[0;34m\u001b[0m\u001b[0m\n\u001b[0m\u001b[1;32m    889\u001b[0m     \u001b[0;32melse\u001b[0m\u001b[0;34m:\u001b[0m\u001b[0;34m\u001b[0m\u001b[0;34m\u001b[0m\u001b[0m\n\u001b[1;32m    890\u001b[0m       \u001b[0m_\u001b[0m\u001b[0;34m,\u001b[0m \u001b[0m_\u001b[0m\u001b[0;34m,\u001b[0m \u001b[0m_\u001b[0m\u001b[0;34m,\u001b[0m \u001b[0mfiltered_flat_args\u001b[0m \u001b[0;34m=\u001b[0m\u001b[0;31m \u001b[0m\u001b[0;31m\\\u001b[0m\u001b[0;34m\u001b[0m\u001b[0;34m\u001b[0m\u001b[0m\n",
      "\u001b[0;32m~/anaconda3/envs/tf_gpu/lib/python3.7/site-packages/tensorflow/python/eager/function.py\u001b[0m in \u001b[0;36m__call__\u001b[0;34m(self, *args, **kwargs)\u001b[0m\n\u001b[1;32m   2941\u001b[0m        filtered_flat_args) = self._maybe_define_function(args, kwargs)\n\u001b[1;32m   2942\u001b[0m     return graph_function._call_flat(\n\u001b[0;32m-> 2943\u001b[0;31m         filtered_flat_args, captured_inputs=graph_function.captured_inputs)  # pylint: disable=protected-access\n\u001b[0m\u001b[1;32m   2944\u001b[0m \u001b[0;34m\u001b[0m\u001b[0m\n\u001b[1;32m   2945\u001b[0m   \u001b[0;34m@\u001b[0m\u001b[0mproperty\u001b[0m\u001b[0;34m\u001b[0m\u001b[0;34m\u001b[0m\u001b[0m\n",
      "\u001b[0;32m~/anaconda3/envs/tf_gpu/lib/python3.7/site-packages/tensorflow/python/eager/function.py\u001b[0m in \u001b[0;36m_call_flat\u001b[0;34m(self, args, captured_inputs, cancellation_manager)\u001b[0m\n\u001b[1;32m   1917\u001b[0m       \u001b[0;31m# No tape is watching; skip to running the function.\u001b[0m\u001b[0;34m\u001b[0m\u001b[0;34m\u001b[0m\u001b[0;34m\u001b[0m\u001b[0m\n\u001b[1;32m   1918\u001b[0m       return self._build_call_outputs(self._inference_function.call(\n\u001b[0;32m-> 1919\u001b[0;31m           ctx, args, cancellation_manager=cancellation_manager))\n\u001b[0m\u001b[1;32m   1920\u001b[0m     forward_backward = self._select_forward_and_backward_functions(\n\u001b[1;32m   1921\u001b[0m         \u001b[0margs\u001b[0m\u001b[0;34m,\u001b[0m\u001b[0;34m\u001b[0m\u001b[0;34m\u001b[0m\u001b[0m\n",
      "\u001b[0;32m~/anaconda3/envs/tf_gpu/lib/python3.7/site-packages/tensorflow/python/eager/function.py\u001b[0m in \u001b[0;36mcall\u001b[0;34m(self, ctx, args, cancellation_manager)\u001b[0m\n\u001b[1;32m    558\u001b[0m               \u001b[0minputs\u001b[0m\u001b[0;34m=\u001b[0m\u001b[0margs\u001b[0m\u001b[0;34m,\u001b[0m\u001b[0;34m\u001b[0m\u001b[0;34m\u001b[0m\u001b[0m\n\u001b[1;32m    559\u001b[0m               \u001b[0mattrs\u001b[0m\u001b[0;34m=\u001b[0m\u001b[0mattrs\u001b[0m\u001b[0;34m,\u001b[0m\u001b[0;34m\u001b[0m\u001b[0;34m\u001b[0m\u001b[0m\n\u001b[0;32m--> 560\u001b[0;31m               ctx=ctx)\n\u001b[0m\u001b[1;32m    561\u001b[0m         \u001b[0;32melse\u001b[0m\u001b[0;34m:\u001b[0m\u001b[0;34m\u001b[0m\u001b[0;34m\u001b[0m\u001b[0m\n\u001b[1;32m    562\u001b[0m           outputs = execute.execute_with_cancellation(\n",
      "\u001b[0;32m~/anaconda3/envs/tf_gpu/lib/python3.7/site-packages/tensorflow/python/eager/execute.py\u001b[0m in \u001b[0;36mquick_execute\u001b[0;34m(op_name, num_outputs, inputs, attrs, ctx, name)\u001b[0m\n\u001b[1;32m     58\u001b[0m     \u001b[0mctx\u001b[0m\u001b[0;34m.\u001b[0m\u001b[0mensure_initialized\u001b[0m\u001b[0;34m(\u001b[0m\u001b[0;34m)\u001b[0m\u001b[0;34m\u001b[0m\u001b[0;34m\u001b[0m\u001b[0m\n\u001b[1;32m     59\u001b[0m     tensors = pywrap_tfe.TFE_Py_Execute(ctx._handle, device_name, op_name,\n\u001b[0;32m---> 60\u001b[0;31m                                         inputs, attrs, num_outputs)\n\u001b[0m\u001b[1;32m     61\u001b[0m   \u001b[0;32mexcept\u001b[0m \u001b[0mcore\u001b[0m\u001b[0;34m.\u001b[0m\u001b[0m_NotOkStatusException\u001b[0m \u001b[0;32mas\u001b[0m \u001b[0me\u001b[0m\u001b[0;34m:\u001b[0m\u001b[0;34m\u001b[0m\u001b[0;34m\u001b[0m\u001b[0m\n\u001b[1;32m     62\u001b[0m     \u001b[0;32mif\u001b[0m \u001b[0mname\u001b[0m \u001b[0;32mis\u001b[0m \u001b[0;32mnot\u001b[0m \u001b[0;32mNone\u001b[0m\u001b[0;34m:\u001b[0m\u001b[0;34m\u001b[0m\u001b[0;34m\u001b[0m\u001b[0m\n",
      "\u001b[0;31mUnknownError\u001b[0m:    Fail to find the dnn implementation.\n\t [[{{node CudnnRNN}}]]\n\t [[sequential/lstm/PartitionedCall]] [Op:__inference_train_function_2472]\n\nFunction call stack:\ntrain_function -> train_function -> train_function\n"
     ]
    }
   ],
   "source": [
    "for m in models.keys():\n",
    "\n",
    "    TS=39\n",
    "\n",
    "    all_data_pre_processed_cp = all_data_pre_processed.copy()\n",
    "\n",
    "    train_indices = (all_data_pre_processed_cp.is_test==0) & (all_data_pre_processed_cp.dcount  < TS) & (all_data_pre_processed_cp.nn_count == TS) & (all_data_pre_processed_cp.dcount >= 1) & (all_data_pre_processed_cp.lastactive>ACT_THR)  & (all_data_pre_processed_cp.lasttarget>ABS_THR)\n",
    "\n",
    "    x_train = all_data_pre_processed_cp.loc[train_indices, feats]\n",
    "\n",
    "    x_train = x_train.values.reshape(BATCH_SIZE, -1, x_train.shape[1])\n",
    "\n",
    "    x_target = all_data_pre_processed_cp.loc[train_indices, 'target']\n",
    "\n",
    "    x_target = x_target.values.reshape(BATCH_SIZE, -1, 1)\n",
    "\n",
    "    #print(model.layers[0].get_weights()[0])\n",
    "\n",
    "    print(f\"fitting model {m} for timestep: {TS} best initializer is {best_model_params[m][0]}\")\n",
    "\n",
    "    model = models[m](pred_length=1, initializer=best_model_params[m][0])\n",
    "\n",
    "    model.fit(x_train, x_target, epochs=1, batch_size=BATCH_SIZE, verbose=0)\n",
    "\n",
    "\n",
    "\n",
    "    valid_indices = (all_data_pre_processed_cp.is_test==0) & (all_data_pre_processed_cp.dcount == TS) & (all_data_pre_processed_cp.nn_count == TS)\n",
    "\n",
    "    df_x = all_data_pre_processed_cp.loc[valid_indices, feats]\n",
    "\n",
    "    ypred = model.predict(np.array([df_x]))\n",
    "    \n",
    "    print(f\"ypred shape {ypred.shape}\")\n",
    "\n",
    "    print(f\"ypred shape scalar {ypred[0].ravel()[0]}\")\n",
    "\n",
    "    all_data_pre_processed_cp.loc[valid_indices, 'k'] = ypred[0].ravel()[0] + 1\n",
    "\n",
    "    all_data_pre_processed_cp.loc[valid_indices,'k'] = all_data_pre_processed_cp.loc[valid_indices,'k'] * all_data_pre_processed_cp.loc[valid_indices,'microbusiness_density']\n",
    "\n",
    "    nn_indices = (all_data_pre_processed_cp.dcount==TS) & (all_data_pre_processed_cp.nn_count == TS)\n",
    "\n",
    "    lastval = all_data_pre_processed_cp.loc[nn_indices, ['cfips', 'microbusiness_density']].set_index('cfips').to_dict()['microbusiness_density']\n",
    "\n",
    "    df = all_data.loc[(all_data.dcount==TS+1), ['cfips', 'microbusiness_density', 'state', 'lastactive', 'mbd_lag_1']].reset_index(drop=True)\n",
    "\n",
    "    dt = all_data_pre_processed_cp.loc[nn_indices, [\"cfips\", \"k\"]].set_index('cfips').to_dict()['k']\n",
    "\n",
    "    df['lastval'] = df['cfips'].map(lastval)\n",
    "\n",
    "    df['pred'] = df['cfips'].map(dt)\n",
    "\n",
    "    df.loc[df['lastactive']<=ACT_THR, 'pred'] = df.loc[df['lastactive']<=ACT_THR, 'lastval']\n",
    "\n",
    "    df.loc[df['lastval']<=ABS_THR, 'pred'] = df.loc[df['lastval']<=ABS_THR, 'lastval']\n",
    "\n",
    "    df.loc[df['state'].isin(blacklist), 'pred'] = df.loc[df['state'].isin(blacklist), 'lastval']\n",
    "\n",
    "    df.loc[df['cfips'].isin(blacklistcfips), 'pred'] = df.loc[df['cfips'].isin(blacklistcfips), 'lastval']\n",
    "\n",
    "    all_data.loc[(all_data.dcount==(TS+1)), 'ypred'] = df['pred'].values\n",
    "\n",
    "    all_data.loc[(all_data.dcount==(TS+1)), 'ypred_last'] = df['lastval'].values\n",
    "\n",
    "    all_data.loc[all_data['cfips']==28055, 'microbusiness_density'] = 0\n",
    "    all_data.loc[all_data['cfips']==48269, 'microbusiness_density'] = 1.762115\n",
    "\n",
    "    dt = all_data.loc[all_data.dcount==TS+1, ['cfips', 'ypred']].set_index('cfips').to_dict()['ypred']\n",
    "    test = all_data.loc[all_data.is_test==1, ['row_id', 'cfips','microbusiness_density']].copy()\n",
    "    test['microbusiness_density'] = test['cfips'].map(dt)\n",
    "\n",
    "    test[['row_id','microbusiness_density']].to_csv(f'submission_{m}.csv', index=False)"
   ]
  },
  {
   "cell_type": "code",
   "execution_count": null,
   "id": "c66abfad",
   "metadata": {
    "execution": {
     "iopub.execute_input": "2023-02-25T10:33:25.806241Z",
     "iopub.status.busy": "2023-02-25T10:33:25.805875Z",
     "iopub.status.idle": "2023-02-25T10:33:25.813203Z",
     "shell.execute_reply": "2023-02-25T10:33:25.812229Z"
    },
    "papermill": {
     "duration": 0.021398,
     "end_time": "2023-02-25T10:33:25.815490",
     "exception": false,
     "start_time": "2023-02-25T10:33:25.794092",
     "status": "completed"
    },
    "tags": []
   },
   "outputs": [
    {
     "data": {
      "text/plain": [
       "(25080, 3)"
      ]
     },
     "execution_count": 47,
     "metadata": {},
     "output_type": "execute_result"
    }
   ],
   "source": [
    "test.shape"
   ]
  },
  {
   "cell_type": "code",
   "execution_count": null,
   "id": "2300daf1",
   "metadata": {
    "papermill": {
     "duration": 0.010879,
     "end_time": "2023-02-25T10:33:25.837486",
     "exception": false,
     "start_time": "2023-02-25T10:33:25.826607",
     "status": "completed"
    },
    "tags": []
   },
   "outputs": [],
   "source": []
  }
 ],
 "metadata": {
  "kernelspec": {
   "display_name": "Python 3",
   "language": "python",
   "name": "python3"
  },
  "language_info": {
   "codemirror_mode": {
    "name": "ipython",
    "version": 3
   },
   "file_extension": ".py",
   "mimetype": "text/x-python",
   "name": "python",
   "nbconvert_exporter": "python",
   "pygments_lexer": "ipython3",
   "version": "3.7.12"
  },
  "papermill": {
   "default_parameters": {},
   "duration": 71.34006,
   "end_time": "2023-02-25T10:33:29.028255",
   "environment_variables": {},
   "exception": null,
   "input_path": "__notebook__.ipynb",
   "output_path": "__notebook__.ipynb",
   "parameters": {},
   "start_time": "2023-02-25T10:32:17.688195",
   "version": "2.3.4"
  }
 },
 "nbformat": 4,
 "nbformat_minor": 5
}
